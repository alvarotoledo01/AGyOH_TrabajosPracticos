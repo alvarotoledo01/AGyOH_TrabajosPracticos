{
 "cells": [
  {
   "cell_type": "markdown",
   "metadata": {
    "id": "dJXaqszspIRI"
   },
   "source": [
    "Algoritmos Genéticos y Optimización Heurística - UTN-FRT\n",
    "# **Trabajo Práctico Introductorio**\n",
    "### **Tema**: Programación en lenguaje Python\n",
    "\n"
   ]
  },
  {
   "cell_type": "markdown",
   "metadata": {
    "id": "J0FsXHH3o8Dy"
   },
   "source": [
    "Integrantes:\n",
    "\n",
    "1.   Toledo Alvaro Julian\n",
    "2.   Longhino Matias\n",
    "3.   Holgado Adrián"
   ]
  },
  {
   "cell_type": "markdown",
   "metadata": {
    "id": "S8eNgcolvsEy"
   },
   "source": [
    "## Ejercicio 1\n",
    "Los siguientes fragmentos de código ejemplifican diferentes operaciones que serán muy utilizadas en los trabajos prácticos del curso. Recomendamos compranderlas y saberlas aplicar para poder completar los trabajos."
   ]
  },
  {
   "cell_type": "markdown",
   "metadata": {
    "id": "zSO9oviJu0DT"
   },
   "source": [
    "**Tarea**: iterar elementos de un vector:"
   ]
  },
  {
   "cell_type": "code",
   "execution_count": null,
   "metadata": {},
   "outputs": [
    {
     "name": "stdout",
     "output_type": "stream",
     "text": [
      "1. Iterando los elementos de un vector\n",
      "1\n",
      "2\n",
      "3\n",
      "2. Iterando de acuerdo a una cantidad dada\n",
      "1\n",
      "2\n",
      "3\n",
      "Iterar enumerando elementos de un vector\n",
      "0: 3\n",
      "1: 1\n",
      "2: 2\n",
      "3: 4\n"
     ]
    }
   ],
   "source": [
    "print(\"1. Iterando los elementos de un vector\")\n",
    "vector = [1,2,3]\n",
    "\n",
    "for i in vector:\n",
    "    print(i)\n",
    "\n",
    "print(\"2. Iterando de acuerdo a una cantidad dada\")\n",
    "\n",
    "n = int(input(\"Ingrese la cantidad de elementos a imprimir: \"))\n",
    "if n > len(vector):\n",
    "    n = len(vector)\n",
    "    \n",
    "for i in range(n):\n",
    "    print(vector[i])\n",
    "\n",
    "print('3. Iterarando enumerando elementos de un vector')\n",
    "x = [3,1,2,4]\n",
    "for i, v in enumerate(x):\n",
    "    print(\"{0}: {1}\".format(i,v)) # la función format inserta los valores en las llaves\n"
   ]
  },
  {
   "cell_type": "code",
   "execution_count": 4,
   "metadata": {
    "colab": {
     "base_uri": "https://localhost:8080/"
    },
    "executionInfo": {
     "elapsed": 12,
     "status": "ok",
     "timestamp": 1756400662185,
     "user": {
      "displayName": "Diego Lizondo",
      "userId": "06041775461235450633"
     },
     "user_tz": 180
    },
    "id": "g2iMvNIxt0LE",
    "outputId": "6212ce46-63ca-4d7c-b063-b3ce135b6dc7"
   },
   "outputs": [
    {
     "name": "stdout",
     "output_type": "stream",
     "text": [
      "Iterar elementos de un vector\n",
      "2\n",
      "4\n",
      "1\n",
      "3\n",
      "Iterar una cantidad de veces\n",
      "0\n",
      "1\n",
      "2\n",
      "3\n",
      "Iterar enumerando elementos de un vector\n",
      "0: 3\n",
      "1: 1\n",
      "2: 2\n",
      "3: 4\n"
     ]
    }
   ],
   "source": [
    "print('Iterar elementos de un vector')\n",
    "x = [2,4,1,3]\n",
    "for i in x:\n",
    "    print(i)\n",
    "\n",
    "print('Iterar una cantidad de veces')\n",
    "n = 4\n",
    "for i in range(n):\n",
    "   print(i)\n",
    "\n",
    "print('Iterar enumerando elementos de un vector')\n",
    "x = [3,1,2,4]\n",
    "for i, v in enumerate(x):\n",
    "    print(\"{0}: {1}\".format(i,v))"
   ]
  },
  {
   "cell_type": "markdown",
   "metadata": {
    "id": "DGJDQrnAw2lb"
   },
   "source": [
    "**Tarea**: obtener elementos de un vector."
   ]
  },
  {
   "cell_type": "code",
   "execution_count": 34,
   "metadata": {},
   "outputs": [
    {
     "name": "stdout",
     "output_type": "stream",
     "text": [
      "[1, 2, 3, 4, 5, 6, 7, 8, 9]\n",
      "Primer elemento del vector: 1\n",
      "Ultimo elemento del vector: 9\n",
      "Anteultimo elemento del vector: 8\n",
      "Elementos del vector hasta la posicion 5: [1, 2, 3, 4, 5]\n",
      "Elementos del vector después la posicion 5: [6, 7, 8, 9]\n",
      "Elementos del vector desde la posicion 2 hasta la 6: [3, 4, 5, 6]\n",
      "Elementos desde la primer elemento hasta el final: [2, 3, 4, 5, 6, 7, 8, 9]\n",
      "Elementos hasta el primero: [1]\n",
      "Primera mitad del vector: [1, 2, 3, 4]\n",
      "Primera mitad del vector: [3, 1]\n",
      "Elementos con indice par del vector [1, 3, 5, 7, 9]\n",
      "Elementos cada 3 posiciones: [1, 4, 7]\n"
     ]
    }
   ],
   "source": [
    "v = [1,2,3,4,5,6,7,8,9]\n",
    "\n",
    "print(v)\n",
    "print(\"Primer elemento del vector: {0}\".format(v[0]))\n",
    "print(\"Ultimo elemento del vector: {0}\".format(v[-1]))\n",
    "print(\"Anteultimo elemento del vector: {0}\".format(v[-2]))\n",
    "print(\"Elementos del vector hasta la posicion 5: {0}\".format(v[:5]))\n",
    "print(\"Elementos del vector después la posicion 5: {0}\".format(v[5:]))\n",
    "\n",
    "# Aqui vemos que el elemento en la posicion 2 no se incluye, va de 2 para arriba\n",
    "print(\"Elementos del vector desde la posicion 2 hasta la 6: {0}\".format(v[2:6]))\n",
    "\n",
    "# Imprimiendo desde el 1 hasta el final\n",
    "print(\"Elementos desde la primer elemento hasta el final: {0}\".format(v[1:]))\n",
    "# Imprimiendo hasta el 1\n",
    "print(\"Elementos hasta el primero: {0}\".format(v[:1]))\n",
    "\n",
    "# El doble // indica que es una division entera, redondea hacia abajo\n",
    "print(\"Primera mitad del vector: {0}\".format(v[:len(v)//2]))\n",
    "# Aqui realizamos la division que devuelve float y redondeamos al entero mas cercano\n",
    "print(\"Primera mitad del vector: {0}\".format( x[:round(len(x)/2)]))\n",
    "# o elementos cada 2 posiciones\n",
    "print(\"Elementos con indice par del vector {0}\".format((v[::2])))\n",
    "\n",
    "print(\"Elementos cada 3 posiciones: {0}\".format(v[::3]))\n",
    "\n"
   ]
  },
  {
   "cell_type": "code",
   "execution_count": null,
   "metadata": {
    "colab": {
     "base_uri": "https://localhost:8080/"
    },
    "executionInfo": {
     "elapsed": 10,
     "status": "ok",
     "timestamp": 1756400743399,
     "user": {
      "displayName": "Diego Lizondo",
      "userId": "06041775461235450633"
     },
     "user_tz": 180
    },
    "id": "EQMzizPYw2N6",
    "outputId": "6070600b-491a-4dcb-cffa-1ea6c85f3272"
   },
   "outputs": [],
   "source": [
    "x = [5, 6, 9, 7, 8, 4, 3, 1] \n",
    "print(x)\n",
    "\n",
    "print(\"Primer elemento: {0}\".format( x[0] ))\n",
    "print(\"Último elemento: {0}\".format( x[-1] ))\n",
    "print(\"Ante-último elemento: {0}\".format( x[-2] ))\n",
    "print(\"Tamaño del vector: {0}\".format( len(x) ))\n",
    "print(\"Elementos desde la segunda posición: {0}\".format( x[1:] ))\n",
    "print(\"Elementos hasta la quinta posición: {0}\".format( x[:5] ))\n",
    "print(\"Primera mitad del vector: {0}\".format( x[:round(len(x)/2)] ))\n",
    "print(\"Elementos pares: {0}\".format( x[::2] ))\n",
    "print(\"Elementos cada 3 posiciones: {0}\".format( x[::3] ))"
   ]
  },
  {
   "cell_type": "markdown",
   "metadata": {
    "id": "SSJGZFlsxW-Q"
   },
   "source": [
    "**Tarea**: realizar operaciones matemáticas sobre vectores."
   ]
  },
  {
   "cell_type": "code",
   "execution_count": null,
   "metadata": {},
   "outputs": [
    {
     "name": "stdout",
     "output_type": "stream",
     "text": [
      "Vector: [1, 2, 3, 4, 5, 6, 7, 8, 9]\n",
      "Suma de todos los elementos: 45\n",
      "Producto de todos los elementos: 362880\n",
      "Valor máximo: 9\n",
      "Valor mínimo: 1\n",
      "Promedio: 5.0\n",
      "Desviación estándar: 2.7386127875258306\n",
      "Varianza: 7.5\n"
     ]
    }
   ],
   "source": [
    "import math\n",
    "import statistics as stats\n",
    "\n",
    "v = [1,2,3,4,5,6,7,8,9]\n",
    "print(\"Vector: {0}\".format(v))\n",
    "\n",
    "# Suma de todos los elementos\n",
    "s=sum(v)\n",
    "print(\"Suma de todos los elementos: {0}\".format(s))\n",
    "# Producto de todos los elementos\n",
    "p=math.prod(v)\n",
    "print(\"Producto de todos los elementos: {0}\".format(p))\n",
    "\n",
    "# Valor máximo\n",
    "mx=max(v)\n",
    "print(\"Valor máximo: {0}\".format(mx))\n",
    "# Valor mínimo\n",
    "mn=min(v)   \n",
    "print(\"Valor mínimo: {0}\".format(mn))\n",
    "\n",
    "# Norma\n"
   ]
  },
  {
   "cell_type": "code",
   "execution_count": null,
   "metadata": {
    "colab": {
     "base_uri": "https://localhost:8080/"
    },
    "executionInfo": {
     "elapsed": 14,
     "status": "ok",
     "timestamp": 1756400785733,
     "user": {
      "displayName": "Diego Lizondo",
      "userId": "06041775461235450633"
     },
     "user_tz": 180
    },
    "id": "hGdtpmsoxWlo",
    "outputId": "b4e1b569-1d61-4b8d-f83c-1bdda887d89f"
   },
   "outputs": [
    {
     "name": "stdout",
     "output_type": "stream",
     "text": [
      "[3, 4, 2.1, 1.9]\n",
      "Suma de elementos: 11.0\n",
      "Mínimo y máximo del vector: 1.9, 4\n",
      "Norma del vector: 5.746303159423457\n"
     ]
    }
   ],
   "source": [
    "import math\n",
    "\n",
    "x = [3, 4, 2.1, 1.9]\n",
    "print(x)\n",
    "\n",
    "s = sum(x)\n",
    "print(\"Suma de elementos: {0}\".format(s))\n",
    "\n",
    "min_x = min(x)\n",
    "max_x = max(x)\n",
    "print(\"Mínimo y máximo del vector: {0}, {1}\".format(min_x, max_x))\n",
    "\n",
    "# Por cada i en x, elevar i al cuadrado, sumar todos esos valores y sacar la raíz cuadrada\n",
    "# El resultado de i lo ponemos antes de la expresión para que se entienda que es por cada i en x\n",
    "norma = math.sqrt(sum([i**2 for i in x]))\n",
    "\n",
    "print(\"Norma del vector: {0}\".format(norma))"
   ]
  },
  {
   "cell_type": "markdown",
   "metadata": {
    "id": "BnIy-_FQqoxr"
   },
   "source": [
    "**Tarea**: generar valores aleatorios dentro de un rango predefinido."
   ]
  },
  {
   "cell_type": "code",
   "execution_count": 54,
   "metadata": {},
   "outputs": [
    {
     "name": "stdout",
     "output_type": "stream",
     "text": [
      "10 números aleatorios entre 1 y 100:\n",
      "88\n",
      "97\n",
      "9\n",
      "57\n",
      "97\n",
      "41\n",
      "42\n",
      "31\n",
      "67\n",
      "43\n",
      "Valor aleatorio entre 0 y 1: 0.16007102105635473\n",
      "Valor aleatorio entre -1 y 1: -0.6798579578872905\n",
      "Valor aleatorio entre a=5 y b=10: 5.800355105281774\n"
     ]
    }
   ],
   "source": [
    "import random\n",
    "\n",
    "# Generar 10 números aleatorios entre 1 y 100\n",
    "print(\"10 números aleatorios entre 1 y 100:\")\n",
    "for _ in range(10):\n",
    "    num = random.randint(1, 100) #radint incluye ambos extremos\n",
    "    print(num)\n",
    "# el _ se usa cuando no nos importa el valor de la variable, solo queremos repetir la acción\n",
    "\n",
    "# Valor entre 0 y 1\n",
    "s = random.random() # random devuelve un float en [0.0, 1.0)\n",
    "print(\"Valor aleatorio entre 0 y 1: {0}\".format(s))\n",
    "\n",
    "# valor aleatorio entre -1 y 1\n",
    "x = s * 2 - 1 # formula s*(b-a)+a con a=-1 y b=1\n",
    "print(\"Valor aleatorio entre -1 y 1: {0}\".format(x))\n",
    "\n",
    "# valor aleatorio entre a y b\n",
    "a = 5   \n",
    "b = 10\n",
    "x = s * (b - a) + a\n",
    "print(\"Valor aleatorio entre a={0} y b={1}: {2}\".format(a, b, x))"
   ]
  },
  {
   "cell_type": "code",
   "execution_count": null,
   "metadata": {
    "colab": {
     "background_save": true
    },
    "id": "l3mRhmhHnJtB"
   },
   "outputs": [],
   "source": [
    "import random\n",
    "\n",
    "#generar un valor aleatorio entre 0 y 1\n",
    "s = random.random()\n",
    "print('Valor entre 0 y 1: {0}'.format(s))\n",
    "\n",
    "#transladar el valor al rango -1 y 1\n",
    "x = s * 2 - 1\n",
    "print('Valor entre -1 y 1: {0}'.format(x))\n",
    "\n",
    "#transladar el valor al rango a y b\n",
    "a = -1; b = 5\n",
    "x = s*(b-a) + a\n",
    "print('Valor entre a={0} y b={1}: {2}'.format(a,b,x))"
   ]
  },
  {
   "cell_type": "markdown",
   "metadata": {
    "id": "wINVjwc0nSiQ"
   },
   "source": [
    "**Tarea**: generar un vector con n elementos generados al azar."
   ]
  },
  {
   "cell_type": "code",
   "execution_count": null,
   "metadata": {},
   "outputs": [
    {
     "name": "stdout",
     "output_type": "stream",
     "text": [
      "Vector con 5 elementos aleatorios enteros entre 1 y 100: [5, 98, 1, 12, 62]\n",
      "Vector con 5 elementos aleatorios float entre 0 y 1: [0.751529984336337, 0.772819925861474, 0.7202721974650395, 0.5900425287179241, 0.938189114427752]\n",
      "Vector con 5 elementos aleatorios float entre 0 y 1 (list comprehensions): [0.2883007288224879, 0.6794509509653476, 0.08182302749496839, 0.5700266951878309, 0.0034088829149745425]\n",
      "Vector con 5 elementos aleatorios float entre 0 y 1 (vector pre-inicializado): [0.9739665882049393, 0.7278331070094866, 0.8876420452466115, 0.4501706291268336, 0.7005770269641303]\n"
     ]
    }
   ],
   "source": [
    "import random\n",
    "\n",
    "n=5\n",
    "v = []\n",
    "v2 = []\n",
    "v3 = []\n",
    "v4 = [0]*n # inicializa un vector de n elementos en 0, todos iguales a 0 para no llenarlo dinamicamente\n",
    "\n",
    "# Forma 1\n",
    "for _ in range(n):\n",
    "    v.append(random.randint(1,100)) # randint incluye ambos extremos\n",
    "\n",
    "# Forma 2\n",
    "for _ in range(n):\n",
    "    v2.append(random.random()) \n",
    "\n",
    "# Forma 3\n",
    "v3 = [random.random() for _ in range(n)] # otra forma de hacerlo con list comprehensions\n",
    "# uso _ porque no me importa el valor del indice\n",
    "\n",
    "# Forma 4\n",
    "for i in range(n):\n",
    "    v4[i] = random.random()  # Forma 4, llenando un vector ya inicializado\n",
    "\n",
    "print(\"Vector con {0} elementos aleatorios enteros entre 1 y 100: {1}\".format(n,v))\n",
    "print(\"Vector con {0} elementos aleatorios float entre 0 y 1: {1}\".format(n,v2))\n",
    "print(\"Vector con {0} elementos aleatorios float entre 0 y 1 (list comprehensions): {1}\".format(n,v3))\n",
    "print(\"Vector con {0} elementos aleatorios float entre 0 y 1 (vector pre-inicializado): {1}\".format(n,v4))"
   ]
  },
  {
   "cell_type": "code",
   "execution_count": null,
   "metadata": {
    "id": "ePa6H2OYnRdo"
   },
   "outputs": [
    {
     "name": "stdout",
     "output_type": "stream",
     "text": [
      "Método 1 (con for dinámico)\n",
      "[0.17805182193889868, 0.9253029206365817, 0.004584550178182711, 0.14485908156234972, 0.1719023056484431, 0.6340409676569534]\n",
      "Método 2 (con inicializacion)\n",
      "[0.9906834748841294, 0.6254264166593515, 0.2590283614296267, 0.9614320723868586, 0.7388000220658187, 0.9925550052134504]\n",
      "Método 3 (list comprehensions)\n",
      "[0.9277070558063083, 0.6930947875906311, 0.5383335743653698, 0.7193302876801523, 0.2372958444929395, 0.02023965196757016]\n"
     ]
    }
   ],
   "source": [
    "import random\n",
    "\n",
    "def aleatorio_1(n):\n",
    "    \"\"\"Método 1: dinámico usando bucle for\n",
    "    \"\"\"\n",
    "    v = []\n",
    "    for i in range(n):\n",
    "      v.append(random.random())\n",
    "    return v\n",
    "\n",
    "def aleatorio_2(n):\n",
    "    \"\"\"Método 2:  inicializando e iterando\n",
    "    \"\"\"\n",
    "    v = [0]*n\n",
    "    for i in range(len(v)):\n",
    "      v[i] = random.random()\n",
    "    return v\n",
    "\n",
    "def aleatorio_3(n):\n",
    "    \"\"\"Método 3: list comprehensions\n",
    "    \"\"\"\n",
    "    return [random.random() for i in range(n)]\n",
    "\n",
    "n = 6\n",
    "print('Método 1 (con for dinámico)')\n",
    "print(aleatorio_1(n))\n",
    "print('Método 2 (con inicializacion)')\n",
    "print(aleatorio_2(n))\n",
    "print('Método 3 (list comprehensions)')\n",
    "print(aleatorio_3(n))"
   ]
  },
  {
   "cell_type": "markdown",
   "metadata": {
    "id": "1DqLYzt-r51W"
   },
   "source": [
    "**Tarea**: generar n puntos al azar (vectores de 2 coordenadas) y graficarlos en el plano."
   ]
  },
  {
   "cell_type": "code",
   "execution_count": 69,
   "metadata": {
    "id": "Nt9hTkB1sKyc"
   },
   "outputs": [
    {
     "data": {
      "image/png": "[encoded data removed]",
      "text/plain": [
       "<Figure size 640x480 with 1 Axes>"
      ]
     },
     "metadata": {},
     "output_type": "display_data"
    }
   ],
   "source": [
    "import matplotlib.pyplot as plt\n",
    "\n",
    "n = 10\n",
    "\n",
    "# crear la figura y los ejes, la figura es el lienzo donde se dibuja todo\n",
    "# los ejes son el sistema de coordenadas\n",
    "fig = plt.figure()\n",
    "ax = plt.gca()\n",
    "\n",
    "x = [random.random() for _ in range(n)]\n",
    "y = [random.random() for _ in range(n)]\n",
    "\n",
    "ax.scatter(x, y, c='k', marker='o')\n",
    "# c es el color, marker es la forma del punto\n",
    "\n",
    "#dar formato al grafico\n",
    "ax.set_xlabel('x') # etiquetas de los ejes\n",
    "ax.set_ylabel('y')\n",
    "plt.grid() # activa la rejilla de fondo, para ver mejor la posición de los puntos."
   ]
  },
  {
   "cell_type": "markdown",
   "metadata": {
    "id": "PaU2zgwB0474"
   },
   "source": [
    "**Tarea**: definir una función que tome un vector como entrada, y devuelva un valor real como salida."
   ]
  },
  {
   "cell_type": "code",
   "execution_count": 72,
   "metadata": {},
   "outputs": [
    {
     "name": "stdout",
     "output_type": "stream",
     "text": [
      "f([3, 1, 4, 2]) = 10\n"
     ]
    }
   ],
   "source": [
    "def vectorAValor(v):\n",
    "    return sum(v)\n",
    "\n",
    "x = [3,1,4,2]\n",
    "y = vectorAValor(x)\n",
    "# En este caso devolvemos la suma de los elementos del vector\n",
    "print(\"f({0}) = {1}\".format(x,y))"
   ]
  },
  {
   "cell_type": "code",
   "execution_count": 71,
   "metadata": {
    "id": "Ku6EcpZ805wA"
   },
   "outputs": [
    {
     "name": "stdout",
     "output_type": "stream",
     "text": [
      "f([5]) = 25\n",
      "f([3, 2]) = 13\n",
      "f([2, 1, -1]) = 6\n"
     ]
    }
   ],
   "source": [
    "def funcion(x_vector):\n",
    "    \"\"\"Devuelve el valor de la función f(x1,x2,...,xn) = x1^2 + x2^2 + ... + xn^2\n",
    "    \"\"\"\n",
    "    return sum([x**2 for x in x_vector])\n",
    "\n",
    "x = [5]\n",
    "print(\"f({0}) = {1}\".format(x,funcion(x)))\n",
    "\n",
    "x = [3, 2]\n",
    "print(\"f({0}) = {1}\".format(x,funcion(x)))\n",
    "\n",
    "x = [2, 1, -1]\n",
    "print(\"f({0}) = {1}\".format(x,funcion(x)))"
   ]
  },
  {
   "cell_type": "markdown",
   "metadata": {
    "id": "DMEE4YuztBbd"
   },
   "source": [
    "## Ejercicio 2\n",
    "Resolver los siguientes ejercicios de programación.\n",
    "\n",
    "1.    Implementar un programa que iterativamente genere numeros aleatorios enteros dentro del intervalo [0, 20] y que termine la ejecución al obtener un 0. Debe imprimir en pantalla la cantidad de iteraciones realizadas al terminar la ejecución.\n",
    "\n",
    "2.    Generar un vector con n elementos binarios (valor 0 o 1 generado al azar). Luego contar cuantos ceros hay en la primera mitad del vector (posición 0 a n/2) y cuantos unos hay en la segunda mitad del vector. Probar con n = 10 y n = 13.\n"
   ]
  },
  {
   "cell_type": "code",
   "execution_count": 134,
   "metadata": {
    "id": "02ezZ29Ht2M0"
   },
   "outputs": [
    {
     "name": "stdout",
     "output_type": "stream",
     "text": [
      "Vector generado: [1.1793896421640149, 13.396786113845295, 10.628571066581841, 6.12872164773782, 6.360714832694285, 16.662184718080024, 3.80571242101019, 2.9295614334964792, 8.514884854056291, 18.202237989182393]\n",
      "Valor 1: 1.1793896421640149\n",
      "Valor 2: 13.396786113845295\n",
      "Valor 3: 10.628571066581841\n",
      "Valor 4: 6.12872164773782\n",
      "Valor 5: 6.360714832694285\n",
      "Valor 6: 16.662184718080024\n",
      "Valor 7: 3.80571242101019\n",
      "Valor 8: 2.9295614334964792\n",
      "Valor 9: 8.514884854056291\n",
      "Valor 10: 18.202237989182393\n"
     ]
    }
   ],
   "source": [
    "# Ejercicio 1\n",
    "def generarNNumerosAleatorios(n):\n",
    "    a=0\n",
    "    b=20\n",
    "    return [random.random()*(b-a)+a for _ in range(n)]\n",
    "\n",
    "def cortarIteracionAlEncontrar0(v):\n",
    "    c=0\n",
    "    for i in v:\n",
    "        c+=1\n",
    "        print(\"Valor {0}: {1}\".format(c,i))\n",
    "        if i==0:\n",
    "            print(\"Se encontró un 0 en la posición {0}, se corta la iteración.\".format(c))\n",
    "            break\n",
    "    return\n",
    "\n",
    "n = 10\n",
    "v = generarNNumerosAleatorios(n)\n",
    "\n",
    "print(\"Vector generado: {0}\".format(v))\n",
    "cortarIteracionAlEncontrar0(v)"
   ]
  },
  {
   "cell_type": "code",
   "execution_count": 168,
   "metadata": {},
   "outputs": [
    {
     "name": "stdout",
     "output_type": "stream",
     "text": [
      "Vector generado: [1, 1, 0, 1, 0, 0, 1, 0, 1, 0]\n",
      "Cantidad de ceros en la primera mitad 2\n",
      "Cantidad de unos en la segunda mitad 2\n"
     ]
    }
   ],
   "source": [
    "# Ejercicio 2\n",
    "\n",
    "def generarVectorCon0y1(n):\n",
    "    return [random.randint(0,1) for _ in range(n)]\n",
    "\n",
    "def contar0y1(v):\n",
    "    mitad = round(len(v)/2)\n",
    "    cerosPrimeraMitad = v[:mitad].count(0)\n",
    "    unosSegundaMitad = v[mitad:].count(1)\n",
    "    \n",
    "    return cerosPrimeraMitad, unosSegundaMitad\n",
    "\n",
    "n=10\n",
    "v = generarVectorCon0y1(n)\n",
    "print(\"Vector generado: {0}\".format(v))\n",
    "\n",
    "cero,uno = contar0y1(v)\n",
    "print(\"Cantidad de ceros en la primera mitad {0}\".format(cero))\n",
    "print(\"Cantidad de unos en la segunda mitad {0}\".format(uno))"
   ]
  }
 ],
 "metadata": {
  "colab": {
   "name": "",
   "version": ""
  },
  "kernelspec": {
   "display_name": "ecommerce_rfm",
   "language": "python",
   "name": "python3"
  },
  "language_info": {
   "codemirror_mode": {
    "name": "ipython",
    "version": 3
   },
   "file_extension": ".py",
   "mimetype": "text/x-python",
   "name": "python",
   "nbconvert_exporter": "python",
   "pygments_lexer": "ipython3",
   "version": "3.11.13"
  }
 },
 "nbformat": 4,
 "nbformat_minor": 0
}
